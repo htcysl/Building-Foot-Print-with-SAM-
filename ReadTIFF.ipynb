{
  "cells": [
    {
      "cell_type": "code",
      "execution_count": null,
      "metadata": {
        "id": "IzxgnvPRtosk"
      },
      "outputs": [],
      "source": [
        "# Import the module\n",
        "import numpy as np\n",
        "import matplotlib.pyplot as plt\n",
        "from osgeo import gdal\n",
        "import os"
      ]
    },
    {
      "cell_type": "markdown",
      "metadata": {
        "id": "l_z3pfoct0Ft"
      },
      "source": [
        "Approach:\n",
        "1. Import the module\n",
        "2. Count the number of bands\n",
        "3. Fetch all the raster bands from the tiff file\n",
        "4. Read the bands into Numpy arrays\n",
        "5. Pass the arrays into Mathplotlib's imshow() to visualize  "
      ]
    },
    {
      "cell_type": "code",
      "execution_count": null,
      "metadata": {
        "id": "--VZFp3jEvCV"
      },
      "outputs": [],
      "source": [
        "data = gdal.Open('/content/drive/MyDrive/4.sınıfBahar/ENGR450 Aday Muhendislik/DATASET/Ortho/Ortho_B1.tif')\n",
        "\n",
        "data = gdal.Open('/content/drive/MyDrive/4.sınıfBahar/ENGR450 Aday Muhendislik/DATASET/B2_20cm.tif')"
      ]
    },
    {
      "cell_type": "code",
      "execution_count": null,
      "metadata": {
        "id": "FPhgvPnsKFVE"
      },
      "outputs": [],
      "source": [
        "tile = 1024\n",
        "\n",
        "if data is not None:\n",
        "  width = data.RasterXSize\n",
        "  height = data.RasterYSize\n",
        "\n",
        "  tile_width = tile\n",
        "  tile_height = tile\n",
        "\n",
        "  band1 = data.GetRasterBand(1)\n",
        "  band2 = data.GetRasterBand(2)\n",
        "  band3 = data.GetRasterBand(3)\n",
        "\n",
        "  for y in range(0,height, tile_height):\n",
        "    for x in range(0, width, tile_width):\n",
        "\n",
        "      tile_x = x\n",
        "      tile_y = y\n",
        "      tile_width_actual = min(tile_width, width -x)\n",
        "      tile_height_actual = min(tile_height, height -y)\n",
        "\n",
        "      #tile_data = data.ReadAsArray(tile_x, tile_y, tile_width_actual, tile_height_actual)\n",
        "\n",
        "      b1 = band1.ReadAsArray(tile_x, tile_y, tile_width_actual, tile_height_actual)\n",
        "      b2 = band2.ReadAsArray(tile_x, tile_y, tile_width_actual, tile_height_actual)\n",
        "      b3 = band3.ReadAsArray(tile_x, tile_y, tile_width_actual, tile_height_actual)\n",
        "\n",
        "      img = np.dstack((b1,b2,b3))\n",
        "\n",
        "      plt.imshow(img)\n",
        "      plt.savefig(f'/content/data/image_{x}_{y}_.tif')\n",
        "      plt.show()\n",
        "\n",
        "      print(\"Tile at ({}, {}) with size ({}, {}):\".format(tile_x, tile_y, tile_width_actual, tile_height_actual))\n"
      ]
    },
    {
      "cell_type": "code",
      "execution_count": null,
      "metadata": {
        "id": "YCZHdZ9l3Oky",
        "colab": {
          "base_uri": "https://localhost:8080/"
        },
        "outputId": "ffd0ba40-8bc9-4365-f327-1ea43fa66758"
      },
      "outputs": [
        {
          "output_type": "stream",
          "name": "stdout",
          "text": [
            "Tile at (0, 0) with size (1024, 1024) saved as /content/dataset/image_0_0.tif.\n",
            "Tile at (1024, 0) with size (1024, 1024) saved as /content/dataset/image_1024_0.tif.\n",
            "Tile at (2048, 0) with size (1024, 1024) saved as /content/dataset/image_2048_0.tif.\n",
            "Tile at (3072, 0) with size (1024, 1024) saved as /content/dataset/image_3072_0.tif.\n",
            "Tile at (4096, 0) with size (1024, 1024) saved as /content/dataset/image_4096_0.tif.\n",
            "Tile at (5120, 0) with size (1024, 1024) saved as /content/dataset/image_5120_0.tif.\n",
            "Tile at (6144, 0) with size (106, 1024) saved as /content/dataset/image_6144_0.tif.\n",
            "Tile at (0, 1024) with size (1024, 1024) saved as /content/dataset/image_0_1024.tif.\n",
            "Tile at (1024, 1024) with size (1024, 1024) saved as /content/dataset/image_1024_1024.tif.\n",
            "Tile at (2048, 1024) with size (1024, 1024) saved as /content/dataset/image_2048_1024.tif.\n",
            "Tile at (3072, 1024) with size (1024, 1024) saved as /content/dataset/image_3072_1024.tif.\n",
            "Tile at (4096, 1024) with size (1024, 1024) saved as /content/dataset/image_4096_1024.tif.\n",
            "Tile at (5120, 1024) with size (1024, 1024) saved as /content/dataset/image_5120_1024.tif.\n",
            "Tile at (6144, 1024) with size (106, 1024) saved as /content/dataset/image_6144_1024.tif.\n",
            "Tile at (0, 2048) with size (1024, 1024) saved as /content/dataset/image_0_2048.tif.\n",
            "Tile at (1024, 2048) with size (1024, 1024) saved as /content/dataset/image_1024_2048.tif.\n",
            "Tile at (2048, 2048) with size (1024, 1024) saved as /content/dataset/image_2048_2048.tif.\n",
            "Tile at (3072, 2048) with size (1024, 1024) saved as /content/dataset/image_3072_2048.tif.\n",
            "Tile at (4096, 2048) with size (1024, 1024) saved as /content/dataset/image_4096_2048.tif.\n",
            "Tile at (5120, 2048) with size (1024, 1024) saved as /content/dataset/image_5120_2048.tif.\n",
            "Tile at (6144, 2048) with size (106, 1024) saved as /content/dataset/image_6144_2048.tif.\n",
            "Tile at (0, 3072) with size (1024, 1024) saved as /content/dataset/image_0_3072.tif.\n",
            "Tile at (1024, 3072) with size (1024, 1024) saved as /content/dataset/image_1024_3072.tif.\n",
            "Tile at (2048, 3072) with size (1024, 1024) saved as /content/dataset/image_2048_3072.tif.\n",
            "Tile at (3072, 3072) with size (1024, 1024) saved as /content/dataset/image_3072_3072.tif.\n",
            "Tile at (4096, 3072) with size (1024, 1024) saved as /content/dataset/image_4096_3072.tif.\n",
            "Tile at (5120, 3072) with size (1024, 1024) saved as /content/dataset/image_5120_3072.tif.\n",
            "Tile at (6144, 3072) with size (106, 1024) saved as /content/dataset/image_6144_3072.tif.\n",
            "Tile at (0, 4096) with size (1024, 1024) saved as /content/dataset/image_0_4096.tif.\n",
            "Tile at (1024, 4096) with size (1024, 1024) saved as /content/dataset/image_1024_4096.tif.\n",
            "Tile at (2048, 4096) with size (1024, 1024) saved as /content/dataset/image_2048_4096.tif.\n",
            "Tile at (3072, 4096) with size (1024, 1024) saved as /content/dataset/image_3072_4096.tif.\n",
            "Tile at (4096, 4096) with size (1024, 1024) saved as /content/dataset/image_4096_4096.tif.\n",
            "Tile at (5120, 4096) with size (1024, 1024) saved as /content/dataset/image_5120_4096.tif.\n",
            "Tile at (6144, 4096) with size (106, 1024) saved as /content/dataset/image_6144_4096.tif.\n",
            "Tile at (0, 5120) with size (1024, 1024) saved as /content/dataset/image_0_5120.tif.\n",
            "Tile at (1024, 5120) with size (1024, 1024) saved as /content/dataset/image_1024_5120.tif.\n",
            "Tile at (2048, 5120) with size (1024, 1024) saved as /content/dataset/image_2048_5120.tif.\n",
            "Tile at (3072, 5120) with size (1024, 1024) saved as /content/dataset/image_3072_5120.tif.\n",
            "Tile at (4096, 5120) with size (1024, 1024) saved as /content/dataset/image_4096_5120.tif.\n",
            "Tile at (5120, 5120) with size (1024, 1024) saved as /content/dataset/image_5120_5120.tif.\n",
            "Tile at (6144, 5120) with size (106, 1024) saved as /content/dataset/image_6144_5120.tif.\n",
            "Tile at (0, 6144) with size (1024, 1024) saved as /content/dataset/image_0_6144.tif.\n",
            "Tile at (1024, 6144) with size (1024, 1024) saved as /content/dataset/image_1024_6144.tif.\n",
            "Tile at (2048, 6144) with size (1024, 1024) saved as /content/dataset/image_2048_6144.tif.\n",
            "Tile at (3072, 6144) with size (1024, 1024) saved as /content/dataset/image_3072_6144.tif.\n",
            "Tile at (4096, 6144) with size (1024, 1024) saved as /content/dataset/image_4096_6144.tif.\n",
            "Tile at (5120, 6144) with size (1024, 1024) saved as /content/dataset/image_5120_6144.tif.\n",
            "Tile at (6144, 6144) with size (106, 1024) saved as /content/dataset/image_6144_6144.tif.\n",
            "Tile at (0, 7168) with size (1024, 1024) saved as /content/dataset/image_0_7168.tif.\n",
            "Tile at (1024, 7168) with size (1024, 1024) saved as /content/dataset/image_1024_7168.tif.\n",
            "Tile at (2048, 7168) with size (1024, 1024) saved as /content/dataset/image_2048_7168.tif.\n",
            "Tile at (3072, 7168) with size (1024, 1024) saved as /content/dataset/image_3072_7168.tif.\n",
            "Tile at (4096, 7168) with size (1024, 1024) saved as /content/dataset/image_4096_7168.tif.\n",
            "Tile at (5120, 7168) with size (1024, 1024) saved as /content/dataset/image_5120_7168.tif.\n",
            "Tile at (6144, 7168) with size (106, 1024) saved as /content/dataset/image_6144_7168.tif.\n",
            "Tile at (0, 8192) with size (1024, 58) saved as /content/dataset/image_0_8192.tif.\n",
            "Tile at (1024, 8192) with size (1024, 58) saved as /content/dataset/image_1024_8192.tif.\n",
            "Tile at (2048, 8192) with size (1024, 58) saved as /content/dataset/image_2048_8192.tif.\n",
            "Tile at (3072, 8192) with size (1024, 58) saved as /content/dataset/image_3072_8192.tif.\n",
            "Tile at (4096, 8192) with size (1024, 58) saved as /content/dataset/image_4096_8192.tif.\n",
            "Tile at (5120, 8192) with size (1024, 58) saved as /content/dataset/image_5120_8192.tif.\n",
            "Tile at (6144, 8192) with size (106, 58) saved as /content/dataset/image_6144_8192.tif.\n"
          ]
        }
      ],
      "source": [
        "import numpy as np\n",
        "from osgeo import gdal, gdal_array\n",
        "\n",
        "tile_size = 1024\n",
        "\n",
        "# Open the raster dataset\n",
        "data = gdal.Open('/content/drive/MyDrive/4.sınıfBahar/ENGR450 Aday Muhendislik/DATASET/B2_20cm.tif')\n",
        "\n",
        "if data is not None:\n",
        "    width = data.RasterXSize\n",
        "    height = data.RasterYSize\n",
        "\n",
        "    tile_width = tile_size\n",
        "    tile_height = tile_size\n",
        "\n",
        "    band1 = data.GetRasterBand(1)\n",
        "    band2 = data.GetRasterBand(2)\n",
        "    band3 = data.GetRasterBand(3)\n",
        "\n",
        "    for y in range(0, height, tile_height):\n",
        "        for x in range(0, width, tile_width):\n",
        "            tile_x = x\n",
        "            tile_y = y\n",
        "            tile_width_actual = min(tile_width, width - x)\n",
        "            tile_height_actual = min(tile_height, height - y)\n",
        "\n",
        "            b1 = band1.ReadAsArray(tile_x, tile_y, tile_width_actual, tile_height_actual)\n",
        "            b2 = band2.ReadAsArray(tile_x, tile_y, tile_width_actual, tile_height_actual)\n",
        "            b3 = band3.ReadAsArray(tile_x, tile_y, tile_width_actual, tile_height_actual)\n",
        "\n",
        "            img = np.dstack((b1, b2, b3))\n",
        "\n",
        "            # Save the tile as a TIFF file\n",
        "            tile_filename = f'/content/dataset/image_{x}_{y}.tif'\n",
        "            driver = gdal.GetDriverByName('GTiff')\n",
        "            output_dataset = driver.Create(tile_filename,\n",
        "                                           tile_width_actual,\n",
        "                                           tile_height_actual,\n",
        "                                           3,  # Number of bands\n",
        "                                           gdal_array.NumericTypeCodeToGDALTypeCode(b1.dtype))  # Data type\n",
        "            output_dataset.GetRasterBand(1).WriteArray(b1)\n",
        "            output_dataset.GetRasterBand(2).WriteArray(b2)\n",
        "            output_dataset.GetRasterBand(3).WriteArray(b3)\n",
        "            output_dataset = None  # Close the dataset\n",
        "\n",
        "            print(\"Tile at ({}, {}) with size ({}, {}) saved as {}.\".format(\n",
        "                tile_x, tile_y, tile_width_actual, tile_height_actual, tile_filename))"
      ]
    },
    {
      "cell_type": "code",
      "execution_count": null,
      "metadata": {
        "id": "29TU3yde3OYf"
      },
      "outputs": [],
      "source": []
    },
    {
      "cell_type": "code",
      "execution_count": null,
      "metadata": {
        "id": "yAGp079v3OW8"
      },
      "outputs": [],
      "source": []
    },
    {
      "cell_type": "code",
      "execution_count": null,
      "metadata": {
        "id": "L0rIcmJp3OOE"
      },
      "outputs": [],
      "source": []
    },
    {
      "cell_type": "code",
      "execution_count": null,
      "metadata": {
        "id": "QKL-5pxa3OCY"
      },
      "outputs": [],
      "source": []
    },
    {
      "cell_type": "code",
      "execution_count": null,
      "metadata": {
        "colab": {
          "base_uri": "https://localhost:8080/"
        },
        "id": "4ktX3ukvEno9",
        "outputId": "238109fc-59b1-4a87-e756-088447b5633a"
      },
      "outputs": [
        {
          "output_type": "stream",
          "name": "stdout",
          "text": [
            "3 25000 33000\n",
            "3 25000 33000\n",
            "3 25000 33000\n",
            "3 25000 33000\n",
            "3 25000 33000\n",
            "3 25000 33000\n",
            "3 25000 33000\n",
            "3 25000 33000\n",
            "3 25000 33000\n",
            "3 25000 33000\n",
            "3 25000 33000\n",
            "3 25000 33000\n",
            "3 25000 33000\n",
            "3 25000 33000\n"
          ]
        }
      ],
      "source": [
        "image_file = '/content/drive/MyDrive/4.sınıfBahar/ENGR450 Aday Muhendislik/DATASET/Ortho/'\n",
        "for image in os.listdir(image_file):\n",
        "     if image.endswith('.tif'):\n",
        "        data = read_tff(image_file+image)\n",
        "        print(data.RasterCount, data.RasterXSize,data.RasterYSize)\n",
        "\n"
      ]
    },
    {
      "cell_type": "markdown",
      "metadata": {
        "id": "0lejM5UbVXDi"
      },
      "source": []
    },
    {
      "cell_type": "code",
      "execution_count": null,
      "metadata": {
        "id": "mRut3KuUfUQs",
        "colab": {
          "base_uri": "https://localhost:8080/",
          "height": 706
        },
        "outputId": "f31694c3-00fe-465e-c4a3-28b448a93e22"
      },
      "outputs": [
        {
          "output_type": "stream",
          "name": "stderr",
          "text": [
            "ERROR:fiona._env:/content/drive/MyDrive/4.sınıfBahar/ENGR450 Aday Muhendislik/Ortho-2D-Polygon/Buildings_B2.shp: No such file or directory\n"
          ]
        },
        {
          "output_type": "error",
          "ename": "DriverError",
          "evalue": "/content/drive/MyDrive/4.sınıfBahar/ENGR450 Aday Muhendislik/Ortho-2D-Polygon/Buildings_B2.shp: No such file or directory",
          "traceback": [
            "\u001b[0;31m---------------------------------------------------------------------------\u001b[0m",
            "\u001b[0;31mCPLE_OpenFailedError\u001b[0m                      Traceback (most recent call last)",
            "\u001b[0;32mfiona/ogrext.pyx\u001b[0m in \u001b[0;36mfiona.ogrext.gdal_open_vector\u001b[0;34m()\u001b[0m\n",
            "\u001b[0;32mfiona/_err.pyx\u001b[0m in \u001b[0;36mfiona._err.exc_wrap_pointer\u001b[0;34m()\u001b[0m\n",
            "\u001b[0;31mCPLE_OpenFailedError\u001b[0m: /content/drive/MyDrive/4.sınıfBahar/ENGR450 Aday Muhendislik/Ortho-2D-Polygon/Buildings_B2.shp: No such file or directory",
            "\nDuring handling of the above exception, another exception occurred:\n",
            "\u001b[0;31mDriverError\u001b[0m                               Traceback (most recent call last)",
            "\u001b[0;32m<ipython-input-17-d51da30e001a>\u001b[0m in \u001b[0;36m<cell line: 6>\u001b[0;34m()\u001b[0m\n\u001b[1;32m      4\u001b[0m \u001b[0;31m# Read shapefile into a GeoDataFrame\u001b[0m\u001b[0;34m\u001b[0m\u001b[0;34m\u001b[0m\u001b[0m\n\u001b[1;32m      5\u001b[0m \u001b[0mshapefile_path\u001b[0m \u001b[0;34m=\u001b[0m \u001b[0;34m'/content/drive/MyDrive/4.sınıfBahar/ENGR450 Aday Muhendislik/Ortho-2D-Polygon/Buildings_B2.shp'\u001b[0m\u001b[0;34m\u001b[0m\u001b[0;34m\u001b[0m\u001b[0m\n\u001b[0;32m----> 6\u001b[0;31m \u001b[0mgdf\u001b[0m \u001b[0;34m=\u001b[0m \u001b[0mgpd\u001b[0m\u001b[0;34m.\u001b[0m\u001b[0mread_file\u001b[0m\u001b[0;34m(\u001b[0m\u001b[0mshapefile_path\u001b[0m\u001b[0;34m)\u001b[0m\u001b[0;34m\u001b[0m\u001b[0;34m\u001b[0m\u001b[0m\n\u001b[0m\u001b[1;32m      7\u001b[0m \u001b[0;34m\u001b[0m\u001b[0m\n\u001b[1;32m      8\u001b[0m \u001b[0;31m# Plot the shapefile\u001b[0m\u001b[0;34m\u001b[0m\u001b[0;34m\u001b[0m\u001b[0m\n",
            "\u001b[0;32m/usr/local/lib/python3.10/dist-packages/geopandas/io/file.py\u001b[0m in \u001b[0;36m_read_file\u001b[0;34m(filename, bbox, mask, rows, engine, **kwargs)\u001b[0m\n\u001b[1;32m    279\u001b[0m             \u001b[0mpath_or_bytes\u001b[0m \u001b[0;34m=\u001b[0m \u001b[0mfilename\u001b[0m\u001b[0;34m\u001b[0m\u001b[0;34m\u001b[0m\u001b[0m\n\u001b[1;32m    280\u001b[0m \u001b[0;34m\u001b[0m\u001b[0m\n\u001b[0;32m--> 281\u001b[0;31m         return _read_file_fiona(\n\u001b[0m\u001b[1;32m    282\u001b[0m             \u001b[0mpath_or_bytes\u001b[0m\u001b[0;34m,\u001b[0m \u001b[0mfrom_bytes\u001b[0m\u001b[0;34m,\u001b[0m \u001b[0mbbox\u001b[0m\u001b[0;34m=\u001b[0m\u001b[0mbbox\u001b[0m\u001b[0;34m,\u001b[0m \u001b[0mmask\u001b[0m\u001b[0;34m=\u001b[0m\u001b[0mmask\u001b[0m\u001b[0;34m,\u001b[0m \u001b[0mrows\u001b[0m\u001b[0;34m=\u001b[0m\u001b[0mrows\u001b[0m\u001b[0;34m,\u001b[0m \u001b[0;34m**\u001b[0m\u001b[0mkwargs\u001b[0m\u001b[0;34m\u001b[0m\u001b[0;34m\u001b[0m\u001b[0m\n\u001b[1;32m    283\u001b[0m         )\n",
            "\u001b[0;32m/usr/local/lib/python3.10/dist-packages/geopandas/io/file.py\u001b[0m in \u001b[0;36m_read_file_fiona\u001b[0;34m(path_or_bytes, from_bytes, bbox, mask, rows, where, **kwargs)\u001b[0m\n\u001b[1;32m    320\u001b[0m \u001b[0;34m\u001b[0m\u001b[0m\n\u001b[1;32m    321\u001b[0m     \u001b[0;32mwith\u001b[0m \u001b[0mfiona_env\u001b[0m\u001b[0;34m(\u001b[0m\u001b[0;34m)\u001b[0m\u001b[0;34m:\u001b[0m\u001b[0;34m\u001b[0m\u001b[0;34m\u001b[0m\u001b[0m\n\u001b[0;32m--> 322\u001b[0;31m         \u001b[0;32mwith\u001b[0m \u001b[0mreader\u001b[0m\u001b[0;34m(\u001b[0m\u001b[0mpath_or_bytes\u001b[0m\u001b[0;34m,\u001b[0m \u001b[0;34m**\u001b[0m\u001b[0mkwargs\u001b[0m\u001b[0;34m)\u001b[0m \u001b[0;32mas\u001b[0m \u001b[0mfeatures\u001b[0m\u001b[0;34m:\u001b[0m\u001b[0;34m\u001b[0m\u001b[0;34m\u001b[0m\u001b[0m\n\u001b[0m\u001b[1;32m    323\u001b[0m             \u001b[0mcrs\u001b[0m \u001b[0;34m=\u001b[0m \u001b[0mfeatures\u001b[0m\u001b[0;34m.\u001b[0m\u001b[0mcrs_wkt\u001b[0m\u001b[0;34m\u001b[0m\u001b[0;34m\u001b[0m\u001b[0m\n\u001b[1;32m    324\u001b[0m             \u001b[0;31m# attempt to get EPSG code\u001b[0m\u001b[0;34m\u001b[0m\u001b[0;34m\u001b[0m\u001b[0m\n",
            "\u001b[0;32m/usr/local/lib/python3.10/dist-packages/fiona/env.py\u001b[0m in \u001b[0;36mwrapper\u001b[0;34m(*args, **kwds)\u001b[0m\n\u001b[1;32m    455\u001b[0m \u001b[0;34m\u001b[0m\u001b[0m\n\u001b[1;32m    456\u001b[0m         \u001b[0;32mwith\u001b[0m \u001b[0menv_ctor\u001b[0m\u001b[0;34m(\u001b[0m\u001b[0msession\u001b[0m\u001b[0;34m=\u001b[0m\u001b[0msession\u001b[0m\u001b[0;34m)\u001b[0m\u001b[0;34m:\u001b[0m\u001b[0;34m\u001b[0m\u001b[0;34m\u001b[0m\u001b[0m\n\u001b[0;32m--> 457\u001b[0;31m             \u001b[0;32mreturn\u001b[0m \u001b[0mf\u001b[0m\u001b[0;34m(\u001b[0m\u001b[0;34m*\u001b[0m\u001b[0margs\u001b[0m\u001b[0;34m,\u001b[0m \u001b[0;34m**\u001b[0m\u001b[0mkwds\u001b[0m\u001b[0;34m)\u001b[0m\u001b[0;34m\u001b[0m\u001b[0;34m\u001b[0m\u001b[0m\n\u001b[0m\u001b[1;32m    458\u001b[0m \u001b[0;34m\u001b[0m\u001b[0m\n\u001b[1;32m    459\u001b[0m     \u001b[0;32mreturn\u001b[0m \u001b[0mwrapper\u001b[0m\u001b[0;34m\u001b[0m\u001b[0;34m\u001b[0m\u001b[0m\n",
            "\u001b[0;32m/usr/local/lib/python3.10/dist-packages/fiona/__init__.py\u001b[0m in \u001b[0;36mopen\u001b[0;34m(fp, mode, driver, schema, crs, encoding, layer, vfs, enabled_drivers, crs_wkt, allow_unsupported_drivers, **kwargs)\u001b[0m\n\u001b[1;32m    290\u001b[0m \u001b[0;34m\u001b[0m\u001b[0m\n\u001b[1;32m    291\u001b[0m         \u001b[0;32mif\u001b[0m \u001b[0mmode\u001b[0m \u001b[0;32min\u001b[0m \u001b[0;34m(\u001b[0m\u001b[0;34m\"a\"\u001b[0m\u001b[0;34m,\u001b[0m \u001b[0;34m\"r\"\u001b[0m\u001b[0;34m)\u001b[0m\u001b[0;34m:\u001b[0m\u001b[0;34m\u001b[0m\u001b[0;34m\u001b[0m\u001b[0m\n\u001b[0;32m--> 292\u001b[0;31m             colxn = Collection(\n\u001b[0m\u001b[1;32m    293\u001b[0m                 \u001b[0mpath\u001b[0m\u001b[0;34m,\u001b[0m\u001b[0;34m\u001b[0m\u001b[0;34m\u001b[0m\u001b[0m\n\u001b[1;32m    294\u001b[0m                 \u001b[0mmode\u001b[0m\u001b[0;34m,\u001b[0m\u001b[0;34m\u001b[0m\u001b[0;34m\u001b[0m\u001b[0m\n",
            "\u001b[0;32m/usr/local/lib/python3.10/dist-packages/fiona/collection.py\u001b[0m in \u001b[0;36m__init__\u001b[0;34m(self, path, mode, driver, schema, crs, encoding, layer, vsi, archive, enabled_drivers, crs_wkt, ignore_fields, ignore_geometry, include_fields, wkt_version, allow_unsupported_drivers, **kwargs)\u001b[0m\n\u001b[1;32m    241\u001b[0m             \u001b[0;32mif\u001b[0m \u001b[0mself\u001b[0m\u001b[0;34m.\u001b[0m\u001b[0mmode\u001b[0m \u001b[0;34m==\u001b[0m \u001b[0;34m\"r\"\u001b[0m\u001b[0;34m:\u001b[0m\u001b[0;34m\u001b[0m\u001b[0;34m\u001b[0m\u001b[0m\n\u001b[1;32m    242\u001b[0m                 \u001b[0mself\u001b[0m\u001b[0;34m.\u001b[0m\u001b[0msession\u001b[0m \u001b[0;34m=\u001b[0m \u001b[0mSession\u001b[0m\u001b[0;34m(\u001b[0m\u001b[0;34m)\u001b[0m\u001b[0;34m\u001b[0m\u001b[0;34m\u001b[0m\u001b[0m\n\u001b[0;32m--> 243\u001b[0;31m                 \u001b[0mself\u001b[0m\u001b[0;34m.\u001b[0m\u001b[0msession\u001b[0m\u001b[0;34m.\u001b[0m\u001b[0mstart\u001b[0m\u001b[0;34m(\u001b[0m\u001b[0mself\u001b[0m\u001b[0;34m,\u001b[0m \u001b[0;34m**\u001b[0m\u001b[0mkwargs\u001b[0m\u001b[0;34m)\u001b[0m\u001b[0;34m\u001b[0m\u001b[0;34m\u001b[0m\u001b[0m\n\u001b[0m\u001b[1;32m    244\u001b[0m             \u001b[0;32melif\u001b[0m \u001b[0mself\u001b[0m\u001b[0;34m.\u001b[0m\u001b[0mmode\u001b[0m \u001b[0;32min\u001b[0m \u001b[0;34m(\u001b[0m\u001b[0;34m\"a\"\u001b[0m\u001b[0;34m,\u001b[0m \u001b[0;34m\"w\"\u001b[0m\u001b[0;34m)\u001b[0m\u001b[0;34m:\u001b[0m\u001b[0;34m\u001b[0m\u001b[0;34m\u001b[0m\u001b[0m\n\u001b[1;32m    245\u001b[0m                 \u001b[0mself\u001b[0m\u001b[0;34m.\u001b[0m\u001b[0msession\u001b[0m \u001b[0;34m=\u001b[0m \u001b[0mWritingSession\u001b[0m\u001b[0;34m(\u001b[0m\u001b[0;34m)\u001b[0m\u001b[0;34m\u001b[0m\u001b[0;34m\u001b[0m\u001b[0m\n",
            "\u001b[0;32mfiona/ogrext.pyx\u001b[0m in \u001b[0;36mfiona.ogrext.Session.start\u001b[0;34m()\u001b[0m\n",
            "\u001b[0;32mfiona/ogrext.pyx\u001b[0m in \u001b[0;36mfiona.ogrext.gdal_open_vector\u001b[0;34m()\u001b[0m\n",
            "\u001b[0;31mDriverError\u001b[0m: /content/drive/MyDrive/4.sınıfBahar/ENGR450 Aday Muhendislik/Ortho-2D-Polygon/Buildings_B2.shp: No such file or directory"
          ]
        }
      ],
      "source": [
        "import geopandas as gpd\n",
        "import matplotlib.pyplot as plt\n",
        "\n",
        "# Read shapefile into a GeoDataFrame\n",
        "shapefile_path = '/content/drive/MyDrive/4.sınıfBahar/ENGR450 Aday Muhendislik/Ortho-2D-Polygon/Buildings_B2.shp'\n",
        "gdf = gpd.read_file(shapefile_path)\n",
        "\n",
        "# Plot the shapefile\n",
        "gdf.plot()\n",
        "\n",
        "# Show plot\n",
        "plt.show()\n"
      ]
    }
  ],
  "metadata": {
    "colab": {
      "provenance": []
    },
    "kernelspec": {
      "display_name": "Python 3",
      "name": "python3"
    },
    "language_info": {
      "name": "python"
    }
  },
  "nbformat": 4,
  "nbformat_minor": 0
}